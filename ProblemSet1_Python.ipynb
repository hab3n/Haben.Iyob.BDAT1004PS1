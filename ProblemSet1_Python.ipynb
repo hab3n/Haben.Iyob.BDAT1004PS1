{
 "cells": [
  {
   "cell_type": "markdown",
   "id": "a44e6cf4",
   "metadata": {},
   "source": [
    "## Question 6 Python\n",
    "\n",
    "You can turn a word into pig-Latin using the following two rules (simplified): \n",
    "  • If the word starts with a consonant, move that letter to the end and append 'ay'. For example, 'happy' becomes 'appyhay' and 'pencil' becomes 'encilpay'. \n",
    "  • If the word starts with a vowel, simply append 'way' to the end of the word. For example, 'enter' becomes 'enterway' and 'other' becomes 'otherway' . For our purposes, there are 5 vowels: a, e, i, o, u (so we count y as a consonant). \n",
    "  \n",
    "Write a function pig() that takes a word (i.e., a string) as input and returns its pigLatin form. Your function should still work if the input word contains upper case characters. Your output should always be lower case however. \n",
    "#>>> pig('happy')\n",
    "'appyhay' \n",
    "#>>> pig('Enter') \n",
    "'enterway' "
   ]
  },
  {
   "cell_type": "code",
   "execution_count": 4,
   "id": "d89484ba",
   "metadata": {},
   "outputs": [
    {
     "name": "stdout",
     "output_type": "stream",
     "text": [
      "Enter a word to translate:Haben\n",
      "abenhay\n"
     ]
    }
   ],
   "source": [
    "# Array to store vowels\n",
    "arr = ('a', 'e', 'i', 'o', 'u', 'y')\n",
    "\n",
    "# pig() function\n",
    "def pig():\n",
    "    # get input to translate\n",
    "    original = input('Enter a word to translate:')\n",
    "\n",
    "    if len(original) > 0 and original.isalpha():\n",
    "        word = original.lower()\n",
    "        v = 'way'\n",
    "        w = 'ay'\n",
    "        if word[0] in arr:\n",
    "            new_word = word + v\n",
    "            print(new_word)\n",
    "        else:\n",
    "            changed_word = word[1:]\n",
    "            new_word = changed_word + word[0] + w\n",
    "            print(new_word)\n",
    "    else:\n",
    "        print('')\n",
    "pig()"
   ]
  },
  {
   "cell_type": "markdown",
   "id": "8e5033cb",
   "metadata": {},
   "source": [
    "## Question 7 Python \n",
    "\n",
    "File bloodtype1.txt records blood-types of patients (A, B, AB, O or OO) at a clinic. Write a function bldcount() that reads the file with name name and reports (i.e., prints) how many patients there are in each bloodtype.  \n",
    "\n",
    "#>>> bldcount('bloodtype.txt') \n",
    "There are 10 patients of blood type A. \n",
    "There is one patient of blood type B. \n",
    "There are 10 patients of blood type AB. \n",
    "There are 12 patients of blood type O. \n",
    "There are no patients of blood type OO."
   ]
  },
  {
   "cell_type": "code",
   "execution_count": null,
   "id": "03dae5e6",
   "metadata": {},
   "outputs": [],
   "source": [
    "text = open('bloodtype1.txt', 'r')\n",
    "\n",
    "# print(f.readlines())\n",
    "arr = ('A', 'B', 'AB', 'O', 'OO')\n",
    "def bldcount():\n",
    "\n",
    "    # Create an empty dictionary\n",
    "    count = dict()\n",
    "\n",
    "    for line in text:\n",
    "\n",
    "        line = line.strip()\n",
    "\n",
    "        words = line.split(\" \")\n",
    "        \n",
    "        for word in words:\n",
    "\n",
    "            if word in count:\n",
    "\n",
    "                count[word] = count[word] + 1\n",
    "            else:\n",
    "                count[word] = 1\n",
    "\n",
    "    # Print the contents of dictionary\n",
    "    for key in list(count.keys()):\n",
    "        print(\"There are\", count[key], \"patients with bloodtype\", key)\n",
    "\n",
    "bldcount()"
   ]
  },
  {
   "cell_type": "markdown",
   "id": "ae09fbf0",
   "metadata": {},
   "source": [
    "## Question 8 Python\n",
    "\n",
    "Write a function curconv() that takes as input:  \n",
    "  1. a currency represented using a string (e.g., 'JPY' for the Japanese Yen or 'EUR' for the Euro) \n",
    "  2. an amount  \n",
    "and then converts and returns the amount in US dollars.  \n",
    "#>>> curconv('EUR', 100) \n",
    "  122.96544 \n",
    "#>>> curconv('JPY', 100) \n",
    "  1.241401  \n",
    "\n",
    "The currency rates you will need are stored in file currencies.txt:  \n",
    "AUD 1.0345157 Australian Dollar \n",
    "CHF 1.0237414 Swiss Franc \n",
    "CNY 0.1550176 Chinese Yuan \n",
    "DKK 0.1651442 Danish Krone \n",
    "EUR 1.2296544 Euro \n",
    "GBP 1.5550989 British Pound \n",
    "HKD 0.1270207 Hong Kong Dollar \n",
    "INR 0.0177643 Indian Rupee \n",
    "JPY 0.01241401 Japanese Yen \n",
    "MXN 0.0751848 Mexican Peso \n",
    "MYR 0.3145411 Malaysian Ringgit \n",
    "NOK 0.1677063 Norwegian Krone \n",
    "NZD 0.8003591 New Zealand Dollar \n",
    "PHP 0.0233234 Philippine Peso \n",
    "SEK 0.148269 Swedish Krona \n",
    "SGD 0.788871 Singapore Dollar \n",
    "THB 0.0313789 Thai Baht "
   ]
  },
  {
   "cell_type": "code",
   "execution_count": null,
   "id": "bf7de297",
   "metadata": {},
   "outputs": [],
   "source": []
  },
  {
   "cell_type": "code",
   "execution_count": 13,
   "id": "537eb95c",
   "metadata": {},
   "outputs": [
    {
     "name": "stdout",
     "output_type": "stream",
     "text": [
      "Enter a currency:PHP\n",
      "Enter an amount to convert:100\n",
      "The amount in USD is: 2.3323400000000003\n"
     ]
    }
   ],
   "source": [
    "def curconv():\n",
    "    arr = {'AUD':1.0345157, 'CHF':1.0237414 , 'CNY':0.1550176, 'DDK':0.1651442,\n",
    "            'EUR':1.2296544, 'GBP':1.5550989, 'HKD':0.1270207, 'INR':0.0177643,\n",
    "            'JPY':0.01241401, 'MXN':0.0751848, 'MYX':0.3145411, 'NOK':0.1677063,\n",
    "            'NZD':0.8003591,'PHP':0.0233234, 'SEK':0.148269, 'SGD':0.788871,\n",
    "            'THB':0.0313789}\n",
    "\n",
    "\n",
    "    k = (input('Enter a currency:'))\n",
    "    amount = int(input('Enter an amount to convert:'))\n",
    "\n",
    "    print('The amount in USD is:', amount*arr.pop(k))\n",
    "curconv()"
   ]
  },
  {
   "cell_type": "markdown",
   "id": "c8e0cc48",
   "metadata": {},
   "source": [
    "## Question 9 Python \n",
    "\n",
    "Each of the following will cause an exception (an error). Identify what type of exception each will cause: \n",
    "Trying to add incompatible variables, as in adding 6 + ‘a’  \n",
    "\n",
    "Referring to the 12th item of a list that has only 10 items  \n",
    "\n",
    "Using a value that is out of range for a function’s input, such as calling math.sqrt(-1.0)   \n",
    "\n",
    "Using an undeclared variable, such as print(x) when x has not been defined   \n",
    "\n",
    "Trying to open a file that does not exist, such as mistyping the file name or looking in the wrong directory. "
   ]
  },
  {
   "cell_type": "code",
   "execution_count": null,
   "id": "3783af41",
   "metadata": {},
   "outputs": [],
   "source": [
    "# Trying to add incompatible variables, as in adding 6 + ‘a’  \n",
    "\n",
    "'SyntaxError: invalid character '‘' (U+2018)'"
   ]
  },
  {
   "cell_type": "code",
   "execution_count": null,
   "id": "d3d1a3ad",
   "metadata": {},
   "outputs": [],
   "source": [
    "# Referring to the 12th item of a list that has only 10 items\n",
    "\n",
    "'IndexError: list index out of range'"
   ]
  },
  {
   "cell_type": "code",
   "execution_count": null,
   "id": "197da2d9",
   "metadata": {},
   "outputs": [],
   "source": [
    "# Using a value that is out of range for a function’s input, such as calling math.sqrt(-1.0)\n",
    "\n",
    "'ValueError: math domain error'"
   ]
  },
  {
   "cell_type": "code",
   "execution_count": null,
   "id": "49f2d4ce",
   "metadata": {},
   "outputs": [],
   "source": [
    "# Using an undeclared variable, such as print(x) when x has not been defined \n",
    "\n",
    "'NameError: name 'x' is not defined'"
   ]
  },
  {
   "cell_type": "code",
   "execution_count": null,
   "id": "339f3879",
   "metadata": {},
   "outputs": [],
   "source": [
    "# Trying to open a file that does not exist, such as mistyping the file \n",
    "# name or looking in the wrong directory. \n",
    "\n",
    "'FileNotFoundError: [Errno 2] No such file or directory: abc.txt'"
   ]
  },
  {
   "cell_type": "markdown",
   "id": "db7bdd03",
   "metadata": {},
   "source": [
    "## Question 10 Python \n",
    "\n",
    "Encryption is the process of hiding the meaning of a text by substituting letters in the message with other letters, according to some system. If the process is successful, no one but the intended recipient can understand the encrypted message. Cryptanalysis refers to attempts to undo the encryption, even if some details of the encryption are unknown (for example, if an encrypted message has been intercepted). The first step of cryptanalysis is often to build up a table of letter frequencies in the encrypted text. \n",
    "\n",
    "Assume that the string letters is already defined as 'abcdefghijklmnopqrstuvwxyz'. \n",
    "\n",
    "Write a function called frequencies() that takes a string as its only parameter, and returns a list of integers, showing the number of times each character appears in the text. Your function may ignore any characters that are not in letters.   \n",
    "\n",
    "#>>> frequencies('The quick red fox got bored and went home.') [1, 1, 1, 3, 5, 1, 1, 2, 1, 0, 1, 0, 1, 2, 4, 0, 1, 2, 0, 2, 1, 0, 1, 1, 0, 0] \n",
    "#>>> frequencies('apple')"
   ]
  },
  {
   "cell_type": "code",
   "execution_count": null,
   "id": "f22b7221",
   "metadata": {},
   "outputs": [],
   "source": [
    "arr = ['a', 'b', 'c', 'd', 'e', 'f', 'g', 'h', 'i', 'j',\n",
    "       'k', 'l', 'm', 'n', 'o', 'p', 'q', 'r', 's', 't', 'u', 'v', 'w', 'x', 'y', 'z']\n",
    "\n",
    "\n",
    "def frequencies():\n",
    "    word = input('Enter what you want to encrypt:')\n",
    "    for i in range(0, 26):\n",
    "        word = word.lower()\n",
    "        w = word.count(arr[i])\n",
    "        print(w, end=\" ,\")\n",
    "\n",
    "\n",
    "frequencies()"
   ]
  }
 ],
 "metadata": {
  "kernelspec": {
   "display_name": "Python 3 (ipykernel)",
   "language": "python",
   "name": "python3"
  },
  "language_info": {
   "codemirror_mode": {
    "name": "ipython",
    "version": 3
   },
   "file_extension": ".py",
   "mimetype": "text/x-python",
   "name": "python",
   "nbconvert_exporter": "python",
   "pygments_lexer": "ipython3",
   "version": "3.9.12"
  }
 },
 "nbformat": 4,
 "nbformat_minor": 5
}
